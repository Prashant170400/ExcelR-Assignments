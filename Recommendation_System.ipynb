{
 "cells": [
  {
   "cell_type": "markdown",
   "id": "a74ac26e",
   "metadata": {},
   "source": [
    "# Data Pre-processing"
   ]
  },
  {
   "cell_type": "markdown",
   "id": "d09d8962",
   "metadata": {},
   "source": [
    "### Importing Libraries"
   ]
  },
  {
   "cell_type": "code",
   "execution_count": 1,
   "id": "6c3a26e9",
   "metadata": {},
   "outputs": [],
   "source": [
    "import pandas as pd\n",
    "from sklearn.feature_extraction.text import TfidfVectorizer\n",
    "from sklearn.metrics.pairwise import linear_kernel\n",
    "from sklearn.metrics import mean_squared_error\n",
    "from sklearn.metrics.pairwise import cosine_similarity\n",
    "from sklearn.metrics import precision_score, recall_score, f1_score"
   ]
  },
  {
   "cell_type": "markdown",
   "id": "2e3e32d1",
   "metadata": {},
   "source": [
    "### Loading dataset"
   ]
  },
  {
   "cell_type": "code",
   "execution_count": 2,
   "id": "7d8f22da",
   "metadata": {},
   "outputs": [],
   "source": [
    "# Load the dataset\n",
    "anime_df = pd.read_csv('anime.csv')"
   ]
  },
  {
   "cell_type": "markdown",
   "id": "6cd59be6",
   "metadata": {},
   "source": [
    "### Handling missing values"
   ]
  },
  {
   "cell_type": "code",
   "execution_count": 3,
   "id": "0083dc75",
   "metadata": {},
   "outputs": [
    {
     "name": "stdout",
     "output_type": "stream",
     "text": [
      "anime_id      0\n",
      "name          0\n",
      "genre        62\n",
      "type         25\n",
      "episodes      0\n",
      "rating      230\n",
      "members       0\n",
      "dtype: int64\n"
     ]
    }
   ],
   "source": [
    "# Check for missing values\n",
    "print(anime_df.isnull().sum())"
   ]
  },
  {
   "cell_type": "code",
   "execution_count": 4,
   "id": "86f3a67e",
   "metadata": {},
   "outputs": [],
   "source": [
    "# Handle missing values in 'genre' and 'type' columns by filling with 'Unknown'\n",
    "anime_df['genre'].fillna('Unknown', inplace=True)\n",
    "anime_df['type'].fillna('Unknown', inplace=True)\n",
    "\n",
    "# Handle missing values in 'rating' column by filling with the mean rating\n",
    "mean_rating = anime_df['rating'].mean()\n",
    "anime_df['rating'].fillna(mean_rating, inplace=True)"
   ]
  },
  {
   "cell_type": "code",
   "execution_count": 5,
   "id": "4c66cf61",
   "metadata": {},
   "outputs": [
    {
     "name": "stdout",
     "output_type": "stream",
     "text": [
      "anime_id    0\n",
      "name        0\n",
      "genre       0\n",
      "type        0\n",
      "episodes    0\n",
      "rating      0\n",
      "members     0\n",
      "dtype: int64\n"
     ]
    }
   ],
   "source": [
    "print(anime_df.isnull().sum())"
   ]
  },
  {
   "cell_type": "markdown",
   "id": "7318f202",
   "metadata": {},
   "source": [
    "### Explore the dataset"
   ]
  },
  {
   "cell_type": "code",
   "execution_count": 6,
   "id": "fe83b7c3",
   "metadata": {},
   "outputs": [
    {
     "data": {
      "text/html": [
       "<div>\n",
       "<style scoped>\n",
       "    .dataframe tbody tr th:only-of-type {\n",
       "        vertical-align: middle;\n",
       "    }\n",
       "\n",
       "    .dataframe tbody tr th {\n",
       "        vertical-align: top;\n",
       "    }\n",
       "\n",
       "    .dataframe thead th {\n",
       "        text-align: right;\n",
       "    }\n",
       "</style>\n",
       "<table border=\"1\" class=\"dataframe\">\n",
       "  <thead>\n",
       "    <tr style=\"text-align: right;\">\n",
       "      <th></th>\n",
       "      <th>anime_id</th>\n",
       "      <th>name</th>\n",
       "      <th>genre</th>\n",
       "      <th>type</th>\n",
       "      <th>episodes</th>\n",
       "      <th>rating</th>\n",
       "      <th>members</th>\n",
       "    </tr>\n",
       "  </thead>\n",
       "  <tbody>\n",
       "    <tr>\n",
       "      <th>0</th>\n",
       "      <td>32281</td>\n",
       "      <td>Kimi no Na wa.</td>\n",
       "      <td>Drama, Romance, School, Supernatural</td>\n",
       "      <td>Movie</td>\n",
       "      <td>1</td>\n",
       "      <td>9.37</td>\n",
       "      <td>200630</td>\n",
       "    </tr>\n",
       "    <tr>\n",
       "      <th>1</th>\n",
       "      <td>5114</td>\n",
       "      <td>Fullmetal Alchemist: Brotherhood</td>\n",
       "      <td>Action, Adventure, Drama, Fantasy, Magic, Mili...</td>\n",
       "      <td>TV</td>\n",
       "      <td>64</td>\n",
       "      <td>9.26</td>\n",
       "      <td>793665</td>\n",
       "    </tr>\n",
       "    <tr>\n",
       "      <th>2</th>\n",
       "      <td>28977</td>\n",
       "      <td>Gintama°</td>\n",
       "      <td>Action, Comedy, Historical, Parody, Samurai, S...</td>\n",
       "      <td>TV</td>\n",
       "      <td>51</td>\n",
       "      <td>9.25</td>\n",
       "      <td>114262</td>\n",
       "    </tr>\n",
       "    <tr>\n",
       "      <th>3</th>\n",
       "      <td>9253</td>\n",
       "      <td>Steins;Gate</td>\n",
       "      <td>Sci-Fi, Thriller</td>\n",
       "      <td>TV</td>\n",
       "      <td>24</td>\n",
       "      <td>9.17</td>\n",
       "      <td>673572</td>\n",
       "    </tr>\n",
       "    <tr>\n",
       "      <th>4</th>\n",
       "      <td>9969</td>\n",
       "      <td>Gintama&amp;#039;</td>\n",
       "      <td>Action, Comedy, Historical, Parody, Samurai, S...</td>\n",
       "      <td>TV</td>\n",
       "      <td>51</td>\n",
       "      <td>9.16</td>\n",
       "      <td>151266</td>\n",
       "    </tr>\n",
       "  </tbody>\n",
       "</table>\n",
       "</div>"
      ],
      "text/plain": [
       "   anime_id                              name  \\\n",
       "0     32281                    Kimi no Na wa.   \n",
       "1      5114  Fullmetal Alchemist: Brotherhood   \n",
       "2     28977                          Gintama°   \n",
       "3      9253                       Steins;Gate   \n",
       "4      9969                     Gintama&#039;   \n",
       "\n",
       "                                               genre   type episodes  rating  \\\n",
       "0               Drama, Romance, School, Supernatural  Movie        1    9.37   \n",
       "1  Action, Adventure, Drama, Fantasy, Magic, Mili...     TV       64    9.26   \n",
       "2  Action, Comedy, Historical, Parody, Samurai, S...     TV       51    9.25   \n",
       "3                                   Sci-Fi, Thriller     TV       24    9.17   \n",
       "4  Action, Comedy, Historical, Parody, Samurai, S...     TV       51    9.16   \n",
       "\n",
       "   members  \n",
       "0   200630  \n",
       "1   793665  \n",
       "2   114262  \n",
       "3   673572  \n",
       "4   151266  "
      ]
     },
     "execution_count": 6,
     "metadata": {},
     "output_type": "execute_result"
    }
   ],
   "source": [
    "anime_df.head()"
   ]
  },
  {
   "cell_type": "code",
   "execution_count": 7,
   "id": "8f158544",
   "metadata": {},
   "outputs": [
    {
     "name": "stdout",
     "output_type": "stream",
     "text": [
      "<class 'pandas.core.frame.DataFrame'>\n",
      "RangeIndex: 12294 entries, 0 to 12293\n",
      "Data columns (total 7 columns):\n",
      " #   Column    Non-Null Count  Dtype  \n",
      "---  ------    --------------  -----  \n",
      " 0   anime_id  12294 non-null  int64  \n",
      " 1   name      12294 non-null  object \n",
      " 2   genre     12294 non-null  object \n",
      " 3   type      12294 non-null  object \n",
      " 4   episodes  12294 non-null  object \n",
      " 5   rating    12294 non-null  float64\n",
      " 6   members   12294 non-null  int64  \n",
      "dtypes: float64(1), int64(2), object(4)\n",
      "memory usage: 672.5+ KB\n",
      "None\n"
     ]
    }
   ],
   "source": [
    "# Display information about the dataset\n",
    "print(anime_df.info())"
   ]
  },
  {
   "cell_type": "code",
   "execution_count": 8,
   "id": "694de1d5",
   "metadata": {},
   "outputs": [
    {
     "name": "stdout",
     "output_type": "stream",
     "text": [
      "['Movie' 'TV' 'OVA' 'Special' 'Music' 'ONA' 'Unknown']\n"
     ]
    }
   ],
   "source": [
    "# Unique values in categorical columns\n",
    "print(anime_df['type'].unique())"
   ]
  },
  {
   "cell_type": "code",
   "execution_count": 9,
   "id": "0c1eb16d",
   "metadata": {},
   "outputs": [
    {
     "data": {
      "text/plain": [
       "type\n",
       "TV         3787\n",
       "OVA        3311\n",
       "Movie      2348\n",
       "Special    1676\n",
       "ONA         659\n",
       "Music       488\n",
       "Unknown      25\n",
       "Name: count, dtype: int64"
      ]
     },
     "execution_count": 9,
     "metadata": {},
     "output_type": "execute_result"
    }
   ],
   "source": [
    "anime_df.type.value_counts()"
   ]
  },
  {
   "cell_type": "code",
   "execution_count": 10,
   "id": "fd345f2c",
   "metadata": {},
   "outputs": [
    {
     "name": "stdout",
     "output_type": "stream",
     "text": [
      "           anime_id        rating       members\n",
      "count  12294.000000  12294.000000  1.229400e+04\n",
      "mean   14058.221653      6.473902  1.807134e+04\n",
      "std    11455.294701      1.017096  5.482068e+04\n",
      "min        1.000000      1.670000  5.000000e+00\n",
      "25%     3484.250000      5.900000  2.250000e+02\n",
      "50%    10260.500000      6.550000  1.550000e+03\n",
      "75%    24794.500000      7.170000  9.437000e+03\n",
      "max    34527.000000     10.000000  1.013917e+06\n"
     ]
    }
   ],
   "source": [
    "# Summary statistics of numerical columns\n",
    "print(anime_df.describe())"
   ]
  },
  {
   "cell_type": "markdown",
   "id": "82eefd55",
   "metadata": {},
   "source": [
    "# Feature Extraction:"
   ]
  },
  {
   "cell_type": "code",
   "execution_count": 11,
   "id": "f8b9e5a3",
   "metadata": {},
   "outputs": [],
   "source": [
    "# Convert genres into numerical representations\n",
    "anime_df['genre'] = anime_df['genre'].astype('category')\n",
    "anime_df['genre_code'] = anime_df['genre'].cat.codes\n",
    "\n",
    "# Normalize ratings\n",
    "anime_df['rating_normalized'] = (anime_df['rating'] - anime_df['rating'].min()) / (anime_df['rating'].max() - anime_df['rating'].min())\n",
    "\n",
    "# Features to be used for similarity computation\n",
    "features = ['genre_code', 'rating_normalized']"
   ]
  },
  {
   "cell_type": "code",
   "execution_count": 12,
   "id": "0aed6dad",
   "metadata": {},
   "outputs": [
    {
     "data": {
      "text/plain": [
       "['genre_code', 'rating_normalized']"
      ]
     },
     "execution_count": 12,
     "metadata": {},
     "output_type": "execute_result"
    }
   ],
   "source": [
    "features"
   ]
  },
  {
   "cell_type": "markdown",
   "id": "5dd24294",
   "metadata": {},
   "source": [
    "# Recommendation System:\n",
    "\n",
    "## Content-based Recommendation System"
   ]
  },
  {
   "cell_type": "code",
   "execution_count": 13,
   "id": "14b75914",
   "metadata": {},
   "outputs": [],
   "source": [
    "def content_based_recommendation(anime_name, anime_df):\n",
    "    # Ensure 'genre' column is not null\n",
    "    #anime_df['genre'] = anime_df['genre'].fillna('Unknown')\n",
    "\n",
    "    # Convert 'genre' column to string if it's not already\n",
    "    anime_df['genre'] = anime_df['genre'].astype(str)\n",
    "\n",
    "    tfidf = TfidfVectorizer(stop_words='english')\n",
    "    tfidf_matrix = tfidf.fit_transform(anime_df['genre'])\n",
    "\n",
    "    cosine_sim = linear_kernel(tfidf_matrix, tfidf_matrix)\n",
    "\n",
    "    idx = anime_df[anime_df['name'] == anime_name].index[0]\n",
    "    sim_scores = list(enumerate(cosine_sim[idx]))\n",
    "\n",
    "    sim_scores = sorted(sim_scores, key=lambda x: x[1], reverse=True)\n",
    "\n",
    "    sim_scores = sim_scores[1:11]\n",
    "\n",
    "    anime_indices = [i[0] for i in sim_scores]\n",
    "    anime_recommendations = anime_df['name'].iloc[anime_indices].tolist()\n",
    "    similarity_scores = [i[1] for i in sim_scores]\n",
    "\n",
    "    # Create a DataFrame to display the recommendations in tabular form\n",
    "    recommendations_df = pd.DataFrame({\n",
    "        'Anime Name': anime_recommendations,\n",
    "        'Similarity Score': similarity_scores\n",
    "    })\n",
    "\n",
    "    return recommendations_df"
   ]
  },
  {
   "cell_type": "code",
   "execution_count": 14,
   "id": "5ae6e7c2",
   "metadata": {},
   "outputs": [
    {
     "name": "stdout",
     "output_type": "stream",
     "text": [
      "                                      Anime Name  Similarity Score\n",
      "0                            Fullmetal Alchemist          0.973258\n",
      "1  Fullmetal Alchemist: The Sacred Star of Milos          0.973258\n",
      "2      Fullmetal Alchemist: Brotherhood Specials          0.955605\n",
      "3            Tales of Vesperia: The First Strike          0.874084\n",
      "4                                 Tide-Line Blue          0.834075\n",
      "5               Fullmetal Alchemist: Reflections          0.812005\n",
      "6                     Magi: The Kingdom of Magic          0.784349\n",
      "7                   Magi: The Labyrinth of Magic          0.784349\n",
      "8                    Magi: Sinbad no Bouken (TV)          0.784349\n",
      "9                         Magi: Sinbad no Bouken          0.784349\n"
     ]
    }
   ],
   "source": [
    "# Fullmetal Alchemist: Brotherhood     Kimi no Na wa.    Magi: The Kingdom of Magic\n",
    "recommendations = content_based_recommendation(\"Fullmetal Alchemist: Brotherhood\", anime_df)\n",
    "print(recommendations)"
   ]
  },
  {
   "cell_type": "markdown",
   "id": "8cddb98b",
   "metadata": {},
   "source": [
    "# Evaluation for Content-based Recommendation System\n",
    "## Average Similarity Score and MAP"
   ]
  },
  {
   "cell_type": "code",
   "execution_count": 15,
   "id": "b645480f",
   "metadata": {},
   "outputs": [],
   "source": [
    "def evaluate1_content_based_model(anime_name, anime_df):\n",
    "    # Get recommendations\n",
    "    recommendations_df = content_based_recommendation(anime_name, anime_df)\n",
    "\n",
    "    # Calculate average similarity score\n",
    "    avg_similarity_score = recommendations_df['Similarity Score'].mean()\n",
    "\n",
    "    # Calculate mean average precision (MAP)\n",
    "    relevant_anime = anime_df[anime_df['name'] == anime_name]\n",
    "    relevant_genre = relevant_anime['genre'].iloc[0]\n",
    "    relevant_anime_set = set(relevant_genre.split(','))\n",
    "    \n",
    "    total_precision = 0.0\n",
    "    relevant_count = 0\n",
    "    for i, anime in enumerate(recommendations_df['Anime Name']):\n",
    "        anime_genre = anime_df[anime_df['name'] == anime]['genre'].iloc[0]\n",
    "        anime_genre_set = set(anime_genre.split(','))\n",
    "        precision = len(relevant_anime_set.intersection(anime_genre_set)) / len(anime_genre_set)\n",
    "        total_precision += precision\n",
    "        if len(relevant_anime_set.intersection(anime_genre_set)) > 0:\n",
    "            relevant_count += 1\n",
    "\n",
    "    if relevant_count == 0:\n",
    "        mean_average_precision = 0.0\n",
    "    else:\n",
    "        mean_average_precision = total_precision / relevant_count\n",
    "\n",
    "    return avg_similarity_score, mean_average_precision"
   ]
  },
  {
   "cell_type": "code",
   "execution_count": 16,
   "id": "8276b951",
   "metadata": {},
   "outputs": [
    {
     "name": "stdout",
     "output_type": "stream",
     "text": [
      "Average Similarity Score: 0.8559681531666964\n",
      "Mean Average Precision (MAP): 0.925\n"
     ]
    }
   ],
   "source": [
    "# Fullmetal Alchemist: Brotherhood     Kimi no Na wa.    Magi: The Kingdom of Magic\n",
    "anime_name = \"Fullmetal Alchemist: Brotherhood\"\n",
    "avg_similarity_score, mean_average_precision = evaluate1_content_based_model(anime_name, anime_df)\n",
    "print(f\"Average Similarity Score: {avg_similarity_score}\")\n",
    "print(f\"Mean Average Precision (MAP): {mean_average_precision}\")"
   ]
  },
  {
   "cell_type": "markdown",
   "id": "3fbd37be",
   "metadata": {},
   "source": [
    "## Precision, recall and f1_score"
   ]
  },
  {
   "cell_type": "code",
   "execution_count": 17,
   "id": "d7a3ff55",
   "metadata": {},
   "outputs": [],
   "source": [
    "def evaluate2_content_based_model(anime_name, anime_df, true_positive_threshold=0.5):\n",
    "    # Get recommendations\n",
    "    recommendations_df = content_based_recommendation(anime_name, anime_df)\n",
    "\n",
    "    # True positive if similarity score >= threshold\n",
    "    true_positives = recommendations_df['Similarity Score'] >= true_positive_threshold\n",
    "    num_true_positives = true_positives.sum()\n",
    "\n",
    "    # False positive if similarity score < threshold\n",
    "    num_false_positives = len(recommendations_df) - num_true_positives\n",
    "\n",
    "    # True positives in top 10 recommendations\n",
    "    top_10_true_positives = recommendations_df.head(10)['Similarity Score'] >= true_positive_threshold\n",
    "    num_top_10_true_positives = top_10_true_positives.sum()\n",
    "\n",
    "    # Calculate precision\n",
    "    precision = num_true_positives / (num_true_positives + num_false_positives) if num_true_positives + num_false_positives > 0 else 0\n",
    "\n",
    "    # Calculate recall\n",
    "    recall = num_true_positives / len(recommendations_df)\n",
    "\n",
    "    # Calculate F1 score\n",
    "    f1_score = 2 * (precision * recall) / (precision + recall) if precision + recall > 0 else 0\n",
    "\n",
    "    # Calculate precision at 10 (P@10)\n",
    "    precision_at_10 = num_top_10_true_positives / 10\n",
    "\n",
    "    return precision, recall, f1_score, precision_at_10"
   ]
  },
  {
   "cell_type": "code",
   "execution_count": 18,
   "id": "9df4357c",
   "metadata": {},
   "outputs": [
    {
     "name": "stdout",
     "output_type": "stream",
     "text": [
      "Precision: 1.0\n",
      "Recall: 1.0\n",
      "F1 Score: 1.0\n",
      "Precision at 10: 1.0\n"
     ]
    }
   ],
   "source": [
    "# Fullmetal Alchemist: Brotherhood     Kimi no Na wa.    Magi: The Kingdom of Magic\n",
    "anime_name = \"Kimi no Na wa.\"\n",
    "precision, recall, f1_score, precision_at_10 = evaluate2_content_based_model(anime_name, anime_df)\n",
    "print(f\"Precision: {precision}\")\n",
    "print(f\"Recall: {recall}\")\n",
    "print(f\"F1 Score: {f1_score}\")\n",
    "print(f\"Precision at 10: {precision_at_10}\")"
   ]
  },
  {
   "cell_type": "markdown",
   "id": "82f66aac",
   "metadata": {},
   "source": [
    "## Collaborative Filtering Recommendation"
   ]
  },
  {
   "cell_type": "code",
   "execution_count": 19,
   "id": "1780f43d",
   "metadata": {},
   "outputs": [],
   "source": [
    "def recommend_anime():\n",
    "    # Defining functions here\n",
    "    def recommend_similar_anime(target_anime_id, anime_df, features, threshold=0.5, top_n=10):\n",
    "        target_anime = anime_df[anime_df['anime_id'] == target_anime_id]\n",
    "        target_features = target_anime[features].values.reshape(1, -1)\n",
    "        \n",
    "        anime_df = anime_df[anime_df['anime_id'] != target_anime_id]\n",
    "        anime_features = anime_df[features].values\n",
    "        \n",
    "        similarity_scores = cosine_similarity(target_features, anime_features).flatten()\n",
    "        similar_anime_indices = similarity_scores.argsort()[::-1]\n",
    "        \n",
    "        recommended_anime = []\n",
    "        for idx in similar_anime_indices:\n",
    "            if similarity_scores[idx] >= threshold:\n",
    "                anime_id = anime_df.iloc[idx]['anime_id']\n",
    "                anime_name = anime_df.iloc[idx]['name']\n",
    "                recommended_anime.append((anime_id, anime_name, similarity_scores[idx]))\n",
    "        \n",
    "        return recommended_anime[:top_n]\n",
    "    \n",
    "    # Prompting user to input the anime ID\n",
    "    target_anime_id = int(input(\"Enter the Anime ID: \"))\n",
    "    \n",
    "    # Get recommendations for the input anime ID\n",
    "    recommendations = recommend_similar_anime(target_anime_id, anime_df, features)\n",
    "    \n",
    "    # Convert recommendations to a DataFrame\n",
    "    recommendations_df = pd.DataFrame(recommendations, columns=['Anime ID', 'Anime Name', 'Similarity Score'])\n",
    "    \n",
    "    # Display input anime along with recommendations in table format\n",
    "    input_anime = anime_df[anime_df['anime_id'] == target_anime_id][['anime_id', 'name']]\n",
    "    input_anime.columns = ['Anime ID', 'Anime Name']\n",
    "    \n",
    "    print(\"\\nInput Anime:\")\n",
    "    print(input_anime.to_string(index=False))\n",
    "    print(\"\\nRecommended Anime:\")\n",
    "    print(recommendations_df.to_string(index=False))"
   ]
  },
  {
   "cell_type": "code",
   "execution_count": 20,
   "id": "1ce4f72d",
   "metadata": {},
   "outputs": [
    {
     "name": "stdout",
     "output_type": "stream",
     "text": [
      "Enter the Anime ID: 5114\n",
      "\n",
      "Input Anime:\n",
      " Anime ID                       Anime Name\n",
      "     5114 Fullmetal Alchemist: Brotherhood\n",
      "\n",
      "Recommended Anime:\n",
      " Anime ID                                       Anime Name  Similarity Score\n",
      "     2473 Ginga Ojousama Densetsu Yuna: Kanashimi no Siren               1.0\n",
      "     3232                Bannou Bunka Neko-Musume Specials               1.0\n",
      "     1412                                        Lupin III               1.0\n",
      "     3036                                      Tobe! Isami               1.0\n",
      "      751                                Bomberman Jetters               1.0\n",
      "     1194                              Coyote Ragtime Show               1.0\n",
      "      375                  Bannou Bunka Neko-Musume (1998)               1.0\n",
      "     4504                       Kinkyuu Hasshin Saver Kids               1.0\n",
      "    12113   Berserk: Ougon Jidai-hen II - Doldrey Kouryaku               1.0\n",
      "     8853                             Chouriki Robo Galatt               1.0\n"
     ]
    }
   ],
   "source": [
    "# Call the function to execute the recommendation process\n",
    "recommend_anime()       # 290   200   32281    5114    28977    9253"
   ]
  },
  {
   "cell_type": "markdown",
   "id": "807176bb",
   "metadata": {},
   "source": [
    "# Evaluation"
   ]
  },
  {
   "cell_type": "code",
   "execution_count": 21,
   "id": "83316e7b",
   "metadata": {},
   "outputs": [
    {
     "name": "stdout",
     "output_type": "stream",
     "text": [
      "Precision: 0.0\n",
      "Recall: 0.0\n",
      "F1 Score: 0\n"
     ]
    }
   ],
   "source": [
    "def evaluate_collaborative_filtering_model(target_anime_id, anime_df, features, threshold=0.5, top_n=10):\n",
    "    # Define function to recommend similar anime\n",
    "    def recommend_similar_anime(target_anime_id, anime_df, features, threshold=0.5, top_n=10):\n",
    "        target_anime = anime_df[anime_df['anime_id'] == target_anime_id]\n",
    "        target_features = target_anime[features].values.reshape(1, -1)\n",
    "        \n",
    "        anime_df = anime_df[anime_df['anime_id'] != target_anime_id]\n",
    "        anime_features = anime_df[features].values\n",
    "        \n",
    "        similarity_scores = cosine_similarity(target_features, anime_features).flatten()\n",
    "        similar_anime_indices = similarity_scores.argsort()[::-1]\n",
    "        \n",
    "        recommended_anime = []\n",
    "        for idx in similar_anime_indices:\n",
    "            if similarity_scores[idx] >= threshold:\n",
    "                anime_id = anime_df.iloc[idx]['anime_id']\n",
    "                anime_name = anime_df.iloc[idx]['name']\n",
    "                recommended_anime.append((anime_id, anime_name, similarity_scores[idx]))\n",
    "        \n",
    "        return recommended_anime[:top_n]\n",
    "    \n",
    "    # Get recommendations for the input anime ID\n",
    "    recommendations = recommend_similar_anime(target_anime_id, anime_df, features, threshold, top_n)\n",
    "    \n",
    "    # Convert recommendations to a DataFrame\n",
    "    recommendations_df = pd.DataFrame(recommendations, columns=['Anime ID', 'Anime Name', 'Similarity Score'])\n",
    "    \n",
    "    # True positive if recommended anime is relevant (present in the top_n)\n",
    "    true_positives = recommendations_df['Anime ID'] == target_anime_id\n",
    "    num_true_positives = true_positives.sum()\n",
    "\n",
    "    # Calculate precision\n",
    "    precision = num_true_positives / top_n\n",
    "\n",
    "    # Calculate recall\n",
    "    relevant_anime = anime_df[anime_df['anime_id'] == target_anime_id]\n",
    "    total_relevant_anime = len(anime_df[anime_df['anime_id'] != target_anime_id])\n",
    "    recall = num_true_positives / total_relevant_anime\n",
    "\n",
    "    # Calculate F1 score\n",
    "    f1_score = 2 * (precision * recall) / (precision + recall) if precision + recall > 0 else 0\n",
    "\n",
    "    return precision, recall, f1_score\n",
    "\n",
    "# Example usage\n",
    "target_anime_id = 17# Example anime ID\n",
    "precision, recall, f1_score = evaluate_collaborative_filtering_model(target_anime_id, anime_df, features)\n",
    "print(f\"Precision: {precision}\")\n",
    "print(f\"Recall: {recall}\")\n",
    "print(f\"F1 Score: {f1_score}\")"
   ]
  },
  {
   "cell_type": "markdown",
   "id": "6f598c8d",
   "metadata": {},
   "source": [
    "# Conclusion\n",
    "#### From the above evaluations we can say that Collaborative Filtering Recommendation for this dataset is not good since the data lacks users info.\n",
    "#### From the above evaluations we can say that Content-based Recommendation System is performing good for this dataset."
   ]
  }
 ],
 "metadata": {
  "kernelspec": {
   "display_name": "Python 3 (ipykernel)",
   "language": "python",
   "name": "python3"
  },
  "language_info": {
   "codemirror_mode": {
    "name": "ipython",
    "version": 3
   },
   "file_extension": ".py",
   "mimetype": "text/x-python",
   "name": "python",
   "nbconvert_exporter": "python",
   "pygments_lexer": "ipython3",
   "version": "3.11.7"
  }
 },
 "nbformat": 4,
 "nbformat_minor": 5
}
