{
 "cells": [
  {
   "cell_type": "markdown",
   "id": "a4273d3c",
   "metadata": {},
   "source": [
    "# Exercise 1: Prime Numbers\n",
    "Write a Python program that checks whether a given number is prime or not. A prime number is a natural number greater than 1 that has no positive divisors other than 1 and itself."
   ]
  },
  {
   "cell_type": "code",
   "execution_count": null,
   "id": "d69debe5",
   "metadata": {},
   "outputs": [],
   "source": [
    "def check_prime(x):\n",
    "    if x <= 1:\n",
    "        print(\"Please enter number greater than 1\")\n",
    "    elif x > 1:\n",
    "        for i in range(2,(x//2)+1):\n",
    "            if x % i == 0:\n",
    "                print(f\"{x} is not a prime number\")\n",
    "                break\n",
    "        else:\n",
    "            print(f\"{x} is a prime number\")"
   ]
  },
  {
   "cell_type": "code",
   "execution_count": null,
   "id": "2655baf8",
   "metadata": {},
   "outputs": [],
   "source": [
    "check_prime(-10)"
   ]
  },
  {
   "cell_type": "code",
   "execution_count": null,
   "id": "3f279416",
   "metadata": {},
   "outputs": [],
   "source": [
    "check_prime(9)"
   ]
  },
  {
   "cell_type": "code",
   "execution_count": null,
   "id": "ed6284e6",
   "metadata": {},
   "outputs": [],
   "source": [
    "check_prime(10)"
   ]
  },
  {
   "cell_type": "code",
   "execution_count": null,
   "id": "a97016f6",
   "metadata": {},
   "outputs": [],
   "source": [
    "check_prime(11)"
   ]
  },
  {
   "cell_type": "markdown",
   "id": "8ce08a19",
   "metadata": {},
   "source": [
    "# Exercise 2: Product of Random Numbers\n",
    "Develop a Python program that generates two random numbers and asks the user to enter the product of these numbers. The program should then check if the user's answer is correct and display an appropriate message."
   ]
  },
  {
   "cell_type": "code",
   "execution_count": null,
   "id": "f155f571",
   "metadata": {},
   "outputs": [],
   "source": [
    "import random\n",
    "\n",
    "# Generating random number\n",
    "def random_numbers():\n",
    "    num1 = random.randint(1, 20) # Generates a random number between 1 and 20\n",
    "    num2 = random.randint(1, 20) \n",
    "    return num1, num2\n",
    "\n",
    "def main():\n",
    "    print(\"Welcome!\")\n",
    "    num1, num2 = random_numbers() # Assigning the random numbers from above function\n",
    "    \n",
    "    correct_product = num1 * num2  # Calculate the product of the two generated numbers\n",
    "    \n",
    "    user_answer = input(f\"What is the product of {num1} and {num2}? \")  # Ask the user to guess the product\n",
    "    \n",
    "    try:\n",
    "        user_answer = int(user_answer) # Convert user input to an integer\n",
    "        if user_answer == correct_product:\n",
    "            print(\"Congratulations! Your answer is correct.\")\n",
    "        else:\n",
    "            print(f\"Sorry, that's incorrect. The correct answer is {correct_product}.\")\n",
    "    except ValueError:\n",
    "        print(\"Invalid input. Please enter a valid integer.\")\n",
    "\n",
    "if __name__ == \"__main__\":\n",
    "    main()"
   ]
  },
  {
   "cell_type": "code",
   "execution_count": null,
   "id": "42623560",
   "metadata": {},
   "outputs": [],
   "source": [
    "main()"
   ]
  },
  {
   "cell_type": "code",
   "execution_count": null,
   "id": "d4aa2d48",
   "metadata": {},
   "outputs": [],
   "source": [
    "main()"
   ]
  },
  {
   "cell_type": "markdown",
   "id": "90d45f8d",
   "metadata": {},
   "source": [
    "# Exercise 3: Squares of Even/Odd Numbers\n",
    "Create a Python script that prints the squares of all even or odd numbers within the range of 100 to 200. Choose either even or odd numbers and document your choice in the code."
   ]
  },
  {
   "cell_type": "code",
   "execution_count": null,
   "id": "3713aa45",
   "metadata": {},
   "outputs": [],
   "source": [
    "def squares(x):\n",
    "    if x == \"odd\":\n",
    "        for i in range(100,201):\n",
    "            if i % 2 == 1:\n",
    "                print(f\"The square of {i} is {i**2}\")\n",
    "    elif x == \"even\":\n",
    "        for i in range(100,201):\n",
    "            if i % 2 == 0:\n",
    "                print(f\"The square of {i} is {i**2}\")\n",
    "    else:\n",
    "        print(\"Invalid input. Enter either 'odd' or 'even'\")"
   ]
  },
  {
   "cell_type": "code",
   "execution_count": null,
   "id": "00b3fe9a",
   "metadata": {},
   "outputs": [],
   "source": [
    "squares(10)"
   ]
  },
  {
   "cell_type": "code",
   "execution_count": null,
   "id": "d4a67f91",
   "metadata": {},
   "outputs": [],
   "source": [
    "squares('odd')"
   ]
  },
  {
   "cell_type": "code",
   "execution_count": null,
   "id": "0b39813e",
   "metadata": {},
   "outputs": [],
   "source": [
    "squares(\"even\")"
   ]
  },
  {
   "cell_type": "markdown",
   "id": "e4614734",
   "metadata": {},
   "source": [
    "# Exercise 4: Word counter\n",
    "write a program to count the number of words in a given text. example: input_text = \"This is a sample text. This text will be used to demonstrate the word counter.\" Expected output:- 'This': 2, 'is': 1, 'a': 1, 'sample': 1, 'text.': 1, ..."
   ]
  },
  {
   "cell_type": "code",
   "execution_count": null,
   "id": "c54ffd38",
   "metadata": {},
   "outputs": [],
   "source": [
    "def word_counter(text):\n",
    "    for char in '.,?!:;': # Replacing certain punctuation characters with spaces to ensure correct word splitting\n",
    "        text = text.replace(char, ' ')\n",
    "\n",
    "    words = text.lower().split() # Split the text into words and convert them to lowercase\n",
    "\n",
    "    word_count = {} # Empty dictionary to store word frequencies\n",
    "\n",
    "    # Count the occurrences of each word\n",
    "    for word in words:\n",
    "        if word in word_count:\n",
    "            word_count[word] += 1\n",
    "        else:\n",
    "            word_count[word] = 1\n",
    "\n",
    "    return word_count\n",
    "\n",
    "\"\"\"\n",
    "def main():\n",
    "    input_text = \"This is a sample text. This text will be used to demonstrate the word counter.\"\n",
    "    \n",
    "    word_counts = word_counter(input_text)\n",
    "\n",
    "    for word, count in word_counts.items():\n",
    "        print(f\"'{word}': {count}\")\n",
    "\n",
    "if __name__ == \"__main__\":\n",
    "    main() \n",
    "\"\"\""
   ]
  },
  {
   "cell_type": "code",
   "execution_count": null,
   "id": "927f494a",
   "metadata": {},
   "outputs": [],
   "source": [
    "word_counter(\"helo world, heeloo world, hello hello world!\")"
   ]
  },
  {
   "cell_type": "code",
   "execution_count": null,
   "id": "e46df10b",
   "metadata": {},
   "outputs": [],
   "source": [
    "word_counter(\"This is a sample text. This text will be used to demonstrate the word counter.\")"
   ]
  },
  {
   "cell_type": "markdown",
   "id": "4fc5e5bc",
   "metadata": {},
   "source": [
    "# Exercise 5: Check for Palindrome\n",
    "Write a Python function called is_palindrome that takes a string as input and returns True if the string is a palindrome, and False otherwise. A palindrome is a word, phrase, number, or other sequence of characters that reads the same forward and backward, ignoring spaces, punctuation, and capitalization.\n",
    "\n",
    "Example:\n",
    "\n",
    "Input: \"racecar\"\n",
    "\n",
    "Expected Output: True"
   ]
  },
  {
   "cell_type": "code",
   "execution_count": null,
   "id": "72817c5c",
   "metadata": {},
   "outputs": [],
   "source": [
    "\"\"\"x = \"No lemon, no melon\"\n",
    "for char in '.,?!:; ':\n",
    "        x = x.replace(char, '').lower()\n",
    "x\"\"\""
   ]
  },
  {
   "cell_type": "code",
   "execution_count": null,
   "id": "b335537c",
   "metadata": {},
   "outputs": [],
   "source": [
    "def palindrome(x):\n",
    "    \n",
    "    for char in '.,?!:; ': # Replacing certain punctuation characters with spaces and converting them to lowercase\n",
    "        x = x.replace(char, '').lower()\n",
    "\n",
    "    # Check if the cleaned string is equal to its reverse\n",
    "    return x == x[::-1]\n",
    "\"\"\"\n",
    "# Test the function\n",
    "input_string = \"A man, a plan, a canal, Panama!\"\n",
    "result = is_palindrome(input_string)\n",
    "print(f\"Is '{input_string}' a palindrome? {result}\")\n",
    "\"\"\""
   ]
  },
  {
   "cell_type": "code",
   "execution_count": null,
   "id": "460db310",
   "metadata": {},
   "outputs": [],
   "source": [
    "palindrome(\"racecar\")"
   ]
  },
  {
   "cell_type": "code",
   "execution_count": null,
   "id": "bdfb9502",
   "metadata": {},
   "outputs": [],
   "source": [
    "palindrome(\"racec\")"
   ]
  },
  {
   "cell_type": "code",
   "execution_count": null,
   "id": "1256299e",
   "metadata": {},
   "outputs": [],
   "source": [
    "palindrome(\"No lemon, no melon\")"
   ]
  }
 ],
 "metadata": {
  "kernelspec": {
   "display_name": "Python 3 (ipykernel)",
   "language": "python",
   "name": "python3"
  },
  "language_info": {
   "codemirror_mode": {
    "name": "ipython",
    "version": 3
   },
   "file_extension": ".py",
   "mimetype": "text/x-python",
   "name": "python",
   "nbconvert_exporter": "python",
   "pygments_lexer": "ipython3",
   "version": "3.11.5"
  }
 },
 "nbformat": 4,
 "nbformat_minor": 5
}
